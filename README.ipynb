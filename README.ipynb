{
 "cells": [
  {
   "cell_type": "markdown",
   "metadata": {},
   "source": [
    "# Summary\n",
    " \n",
    "This lab consists of:\n",
    "- Example model (`train.py`, `validate.py`)\n",
    "- MLFlow/project configuration (`MLproject`, `python_env.yaml`, `requirements.*.txt`)\n",
    "- Service to deply model as a REST API (`run.py`)\n",
    "- Model configuration (`params.env`)\n",
    "- Docker configuration for model deployment (`Dockerfile`)\n",
    "- Docker configuration for MLFlow server deployment (`mlflow/Dockerfile`)\n",
    "- Pipeline configuration for infrastructure and model deployment (`.github/workflows/`)\n",
    "- Kubernetes configuration for model deployment and autoscaling (`k8s/*`)\n",
    "- Terraform infrastructure configuration (`terraform/`)"
   ]
  },
  {
   "cell_type": "markdown",
   "metadata": {},
   "source": [
    "# Setup\n",
    "\n",
    "Setup environment and install dependencies for mlflow:"
   ]
  },
  {
   "cell_type": "code",
   "execution_count": null,
   "metadata": {},
   "outputs": [],
   "source": [
    "! python3.8 -m venv .venv\n",
    "! source .venv/bin/activate\n",
    "! pip install -r requirements.mlflow.txt"
   ]
  },
  {
   "cell_type": "markdown",
   "metadata": {},
   "source": [
    "# Try it\n",
    "\n",
    "As you develop the model, you can use MLFlow to store metrics and artifacts, using command:"
   ]
  },
  {
   "cell_type": "code",
   "execution_count": null,
   "metadata": {},
   "outputs": [],
   "source": [
    "! MLFLOW_TRACKING_URI='https://mlflow-y3omahtamq-uc.a.run.app' mlflow run . --env-manager=local"
   ]
  },
  {
   "cell_type": "markdown",
   "metadata": {},
   "source": [
    "Then visit the link in `MLFLOW_TRACKING_URI`, to see the effect:\n",
    "\n",
    "![MLFlow](media/mlflow.png)\n",
    "\n",
    "The deployed model can also be accessed, current address is `http://34.29.92.22/`. `POST` requests to `http://34.29.92.22/predict` with request body parameter `input` as an image of a number will yield a prediction. Example:\n",
    "\n",
    "![Postman](media/postman.png)\n",
    "\n",
    "![9](media/9.jpg)"
   ]
  },
  {
   "cell_type": "markdown",
   "metadata": {},
   "source": [
    "# How it works\n",
    "\n",
    "## MLFlow commands\n",
    "\n",
    "The project has several options for commands: `main`, `validate` and `deploy`. `main` trains and validates the model, `validate` performs validation only, and `deploy` builds a docker image for the model to run on the cloud as a REST service. Use `main`, or just `mlflow run .`, to develop the model, `validate` to test the model, and `deploy` to ship model to production.\n",
    "\n",
    "## Pipeline\n",
    "\n",
    "Used in this project is GitHub Actions. The following steps are run:\n",
    "\n",
    "- Check code formatting\n",
    "- Test/validate model\n",
    "- Push of metrics and artifacts (model, ROC graphs for each class) into the cloud-hosted MLFlow server\n",
    "- Build model as a REST API, and package it as a docker container\n",
    "- Push docker container into the artifact registry\n",
    "- Apply updated Tearrform configuration, which includes kubernetes cluster, to update it to use newly built docker image\n",
    "\n",
    "Nuances of implementation:\n",
    "- Variables like mysql user and password and github credentials ares stored using GitHub secret manager.\n",
    "\n",
    "\n",
    "# Terraform layout\n",
    "\n",
    "- Cloud storage bucket for syncing terraform state\n",
    "- Managed kubernetes cluster for model deployment with horizontal autoscaling and load balancing.\n",
    "- MySQL instance to store MLFlow data\n",
    "- Cloud storage to store MLFlow artifacts\n",
    "- IAM configuration for GitHub actions, MLFlow, Deployed instance and Kubernetes cluster\n",
    "- Cloud run deployment for hosting MLFlow server docker image\n",
    "- Artifact registry configuration to store REST model services\n",
    "- Firewall configuration for access to MySQL database\n",
    "\n",
    "# Artifact tracking\n",
    "\n",
    "During train runs, model learning curve of loss, and its parameters are tracked. During validation, models validation accuracy and ROC curves for each class are tracked. For all runs, model is stored to artifact registry.\n",
    "\n",
    "\n",
    "![MLFlow](media/mlflow1.png)\n",
    "![MLFlow](media/mlflow2.png)\n",
    "![MLFlow](media/mlflow3.png)"
   ]
  }
 ],
 "metadata": {
  "kernelspec": {
   "display_name": ".venv",
   "language": "python",
   "name": "python3"
  },
  "language_info": {
   "codemirror_mode": {
    "name": "ipython",
    "version": 3
   },
   "file_extension": ".py",
   "mimetype": "text/x-python",
   "name": "python",
   "nbconvert_exporter": "python",
   "pygments_lexer": "ipython3",
   "version": "3.8.18"
  }
 },
 "nbformat": 4,
 "nbformat_minor": 2
}
